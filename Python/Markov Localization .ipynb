{
 "cells": [
  {
   "cell_type": "markdown",
   "metadata": {},
   "source": [
    "# Calculate Localization Posterior"
   ]
  },
  {
   "cell_type": "markdown",
   "metadata": {},
   "source": [
    "To continue developing our intuition for this filter and prepare for later coding exercises, let's walk through calculations for determining posterior probabilities at several pseudo positions x, for a single time step. We will start with a time step after the filter has already been initialized and run a few times. We will cover initialization of the filter in an upcoming concept."
   ]
  },
  {
   "cell_type": "code",
   "execution_count": 6,
   "metadata": {},
   "outputs": [],
   "source": [
    "import pandas as pd"
   ]
  },
  {
   "cell_type": "code",
   "execution_count": 19,
   "metadata": {},
   "outputs": [],
   "source": [
    "pseudo_position_x=[1,2,3,4,5,6,7,8,9]\n",
    "P_location=[1.67E-02,3.86E-02,4.90E-02,3.86E-02,1.69E-02, 6.51E-03,None,3.86E-02]\n",
    "P_observation_location=[0.00E+00,6.99E-03,8.52E-02,None,3.13E-02,9.46E-04,3.87E-06,0.00E+00]\n",
    "Raw_P_location_observation=[0.00E+00,None,4.18E-03,5.42E-03,5.31E-04,6.16E-06,6.55E-08,0.00E+00]\n",
    "Normalized_P_location_observation=[0.00E+00,2.59E-02,4.01E-01,5.21E-01,5.10E-02,None,6.29E-06,0.00E+00]"
   ]
  },
  {
   "cell_type": "code",
   "execution_count": 39,
   "metadata": {},
   "outputs": [],
   "source": [
    "\n",
    "df=pd.DataFrame(list(zip(pseudo_position_x,P_location,P_observation_location,Raw_P_location_observation,Normalized_P_location_observation)),\n",
    "                columns =['pseudo_position (x)', ' P(location)  P(a)','P(observation∣location)  P(b|a)','Raw P(location∣observation) P(b|a)*P(a)= P(Posterior)','Normalized P(location∣observation)  P(b|a)*P(a)/P(b) =P(a|b)']) "
   ]
  },
  {
   "cell_type": "code",
   "execution_count": 40,
   "metadata": {},
   "outputs": [
    {
     "data": {
      "text/html": [
       "<div>\n",
       "<style scoped>\n",
       "    .dataframe tbody tr th:only-of-type {\n",
       "        vertical-align: middle;\n",
       "    }\n",
       "\n",
       "    .dataframe tbody tr th {\n",
       "        vertical-align: top;\n",
       "    }\n",
       "\n",
       "    .dataframe thead th {\n",
       "        text-align: right;\n",
       "    }\n",
       "</style>\n",
       "<table border=\"1\" class=\"dataframe\">\n",
       "  <thead>\n",
       "    <tr style=\"text-align: right;\">\n",
       "      <th></th>\n",
       "      <th>P(location)  P(a)</th>\n",
       "      <th>P(observation∣location)  P(b|a)</th>\n",
       "      <th>Raw P(location∣observation) P(b|a)*P(a)= P(Posterior)</th>\n",
       "      <th>Normalized P(location∣observation)  P(b|a)*P(a)/P(b) =P(a|b)</th>\n",
       "    </tr>\n",
       "    <tr>\n",
       "      <th>pseudo_position (x)</th>\n",
       "      <th></th>\n",
       "      <th></th>\n",
       "      <th></th>\n",
       "      <th></th>\n",
       "    </tr>\n",
       "  </thead>\n",
       "  <tbody>\n",
       "    <tr>\n",
       "      <th>1</th>\n",
       "      <td>0.01670</td>\n",
       "      <td>0.000000</td>\n",
       "      <td>0.000000e+00</td>\n",
       "      <td>0.000000</td>\n",
       "    </tr>\n",
       "    <tr>\n",
       "      <th>2</th>\n",
       "      <td>0.03860</td>\n",
       "      <td>0.006990</td>\n",
       "      <td>NaN</td>\n",
       "      <td>0.025900</td>\n",
       "    </tr>\n",
       "    <tr>\n",
       "      <th>3</th>\n",
       "      <td>0.04900</td>\n",
       "      <td>0.085200</td>\n",
       "      <td>4.180000e-03</td>\n",
       "      <td>0.401000</td>\n",
       "    </tr>\n",
       "    <tr>\n",
       "      <th>4</th>\n",
       "      <td>0.03860</td>\n",
       "      <td>NaN</td>\n",
       "      <td>5.420000e-03</td>\n",
       "      <td>0.521000</td>\n",
       "    </tr>\n",
       "    <tr>\n",
       "      <th>5</th>\n",
       "      <td>0.01690</td>\n",
       "      <td>0.031300</td>\n",
       "      <td>5.310000e-04</td>\n",
       "      <td>0.051000</td>\n",
       "    </tr>\n",
       "    <tr>\n",
       "      <th>6</th>\n",
       "      <td>0.00651</td>\n",
       "      <td>0.000946</td>\n",
       "      <td>6.160000e-06</td>\n",
       "      <td>NaN</td>\n",
       "    </tr>\n",
       "    <tr>\n",
       "      <th>7</th>\n",
       "      <td>NaN</td>\n",
       "      <td>0.000004</td>\n",
       "      <td>6.550000e-08</td>\n",
       "      <td>0.000006</td>\n",
       "    </tr>\n",
       "    <tr>\n",
       "      <th>8</th>\n",
       "      <td>0.03860</td>\n",
       "      <td>0.000000</td>\n",
       "      <td>0.000000e+00</td>\n",
       "      <td>0.000000</td>\n",
       "    </tr>\n",
       "  </tbody>\n",
       "</table>\n",
       "</div>"
      ],
      "text/plain": [
       "                      P(location)  P(a)  P(observation∣location)  P(b|a)  \\\n",
       "pseudo_position (x)                                                        \n",
       "1                               0.01670                         0.000000   \n",
       "2                               0.03860                         0.006990   \n",
       "3                               0.04900                         0.085200   \n",
       "4                               0.03860                              NaN   \n",
       "5                               0.01690                         0.031300   \n",
       "6                               0.00651                         0.000946   \n",
       "7                                   NaN                         0.000004   \n",
       "8                               0.03860                         0.000000   \n",
       "\n",
       "                     Raw P(location∣observation) P(b|a)*P(a)= P(Posterior)  \\\n",
       "pseudo_position (x)                                                          \n",
       "1                                                         0.000000e+00       \n",
       "2                                                                  NaN       \n",
       "3                                                         4.180000e-03       \n",
       "4                                                         5.420000e-03       \n",
       "5                                                         5.310000e-04       \n",
       "6                                                         6.160000e-06       \n",
       "7                                                         6.550000e-08       \n",
       "8                                                         0.000000e+00       \n",
       "\n",
       "                     Normalized P(location∣observation)  P(b|a)*P(a)/P(b) =P(a|b)  \n",
       "pseudo_position (x)                                                                \n",
       "1                                                             0.000000             \n",
       "2                                                             0.025900             \n",
       "3                                                             0.401000             \n",
       "4                                                             0.521000             \n",
       "5                                                             0.051000             \n",
       "6                                                                  NaN             \n",
       "7                                                             0.000006             \n",
       "8                                                             0.000000             "
      ]
     },
     "execution_count": 40,
     "metadata": {},
     "output_type": "execute_result"
    }
   ],
   "source": [
    "df.set_index('pseudo_position (x)')"
   ]
  },
  {
   "cell_type": "markdown",
   "metadata": {},
   "source": [
    "**The Raw P(location|observation)** is the result prior to dividing by the total probability of P(observation), the P(b) term (denominator) of the generalized Bayes`rule. \n",
    "\n",
    "**The normalized P(location|observation)** is the result of after dividing by P(observation).\n",
    "\n",
    "Remember the general form for Bayes' Rule:"
   ]
  },
  {
   "cell_type": "markdown",
   "metadata": {},
   "source": [
    "\n",
    "<p align=\"right\"> <img src=\"./img/7.jpg\" style=\"right;\" alt=\"the general form for Bayes' Rule\" width=\"800\" height=\"400\"> </p> \n"
   ]
  },
  {
   "cell_type": "markdown",
   "metadata": {},
   "source": [
    "With respect to localization, these terms are:\n",
    "\n",
    "* P(location∣observation): This is P(a|b), the normalized probability of a position given an observation (posterior)\n",
    "   \n",
    "* P(observation∣location): This is P(b|a), the probability of an observation given a position (likelihood)\n",
    " \n",
    "* P(location): This is P(a), the prior probability of a position\n",
    "   \n",
    "* P(observation): This is P(b), the total probability of an observation\n"
   ]
  },
  {
   "cell_type": "markdown",
   "metadata": {},
   "source": [
    "**What is P(observation∣location) for x = 4? Write the answer in scientific notation with an accuracy of two decimal places, for example 3.14E-15**"
   ]
  },
  {
   "cell_type": "code",
   "execution_count": 1,
   "metadata": {},
   "outputs": [
    {
     "data": {
      "text/plain": [
       "'1.40E-01'"
      ]
     },
     "execution_count": 1,
     "metadata": {},
     "output_type": "execute_result"
    }
   ],
   "source": [
    "#To determine the observation probability divide the P(posterior) by P(position):\n",
    "#1.40E-1\n",
    "\n",
    "from decimal import Decimal\n",
    "\n",
    "'%.2E' % Decimal(5.42E-3/3.86E-2)\n",
    "#print(5.42E-3/3.86E-2)"
   ]
  },
  {
   "cell_type": "markdown",
   "metadata": {},
   "source": [
    "**What is the raw posterior probability P(location|observation) for x = 2? Be sure to put the answer in scientific notation with an accuracy of two decimal places, for example 3.14E-15.**"
   ]
  },
  {
   "cell_type": "code",
   "execution_count": 42,
   "metadata": {},
   "outputs": [
    {
     "data": {
      "text/plain": [
       "'2.70E-04'"
      ]
     },
     "execution_count": 42,
     "metadata": {},
     "output_type": "execute_result"
    }
   ],
   "source": [
    "#P(location) P(a)*P(observation∣location) P(b|a)\n",
    "#print(0.03860*0.006990)\n",
    "'%.2E'% Decimal(0.03860*0.006990)"
   ]
  },
  {
   "cell_type": "markdown",
   "metadata": {},
   "source": [
    "**What is the normalized posterior probability for x = 6? Write the answer in scientific notation with an accuracy of two decimal places, for example 3.14E-15.**"
   ]
  },
  {
   "cell_type": "markdown",
   "metadata": {},
   "source": [
    "To determine the normalized posterior probability, first sum the raw P(Posterior) to get the total:\n",
    "\n",
    "0.00E+00 + 2.70E-04 + 4.18E-03 + 5.42E-03 + 5.31E-04 + 6.16E-06 + 6.55E-08 + 0.00E+00 = 1.04E-02\n",
    "\n",
    "Next, divide the P(Posterior) by the sum:\n",
    "\n",
    "6.16E-06/1.04E-02 = 5.92E-4"
   ]
  },
  {
   "cell_type": "markdown",
   "metadata": {},
   "source": [
    "**What is the position probability for x = 7? Write your answer in scientific notation with an accuracy of two decimal places, for example 3.14E-15**"
   ]
  },
  {
   "cell_type": "code",
   "execution_count": 45,
   "metadata": {},
   "outputs": [
    {
     "data": {
      "text/plain": [
       "'1.64E-02'"
      ]
     },
     "execution_count": 45,
     "metadata": {},
     "output_type": "execute_result"
    }
   ],
   "source": [
    "#6.550000e-08 /0.000004 \n",
    "'%.2E' %Decimal(6.550000e-08/0.000004 )\n",
    "#To determine the position probability divide P(posterior) by P(observation):\n",
    "#3.87E-06 * 6.55E-08 = 1.69E-2 "
   ]
  },
  {
   "cell_type": "markdown",
   "metadata": {},
   "source": [
    "# Initialize Belief State"
   ]
  },
  {
   "cell_type": "code",
   "execution_count": 46,
   "metadata": {},
   "outputs": [],
   "source": [
    "a=[0, 0, 0, 1.11E-01, 1.11E-01, 1.11E-01, 0, 0, 1.11E-01, 1.11E-01, 1.11E-01, 0, 0, 0, 0, 0, 0, 0, 1.11E-01, 1.11E-01, 1.11E-01, 0, 0, 0, 0]"
   ]
  },
  {
   "cell_type": "code",
   "execution_count": 47,
   "metadata": {},
   "outputs": [
    {
     "data": {
      "text/plain": [
       "25"
      ]
     },
     "execution_count": 47,
     "metadata": {},
     "output_type": "execute_result"
    }
   ],
   "source": [
    "len(a)"
   ]
  },
  {
   "cell_type": "code",
   "execution_count": 66,
   "metadata": {},
   "outputs": [
    {
     "data": {
      "text/plain": [
       "'1.11E-01'"
      ]
     },
     "execution_count": 66,
     "metadata": {},
     "output_type": "execute_result"
    }
   ],
   "source": [
    "'%.2E' %Decimal((1.0)/9 )"
   ]
  },
  {
   "cell_type": "markdown",
   "metadata": {},
   "source": [
    "To reinforce this concept, let's practice with a quiz.\n",
    "\n",
    "    map size: 100 meters\n",
    "    landmark positions: {8, 15, 30, 70, 80}\n",
    "    position standard deviation: 2 meters\n",
    "\n",
    "Assuming we are parked next to a landmark, answer the following questions about our initial belief state."
   ]
  },
  {
   "cell_type": "markdown",
   "metadata": {},
   "source": [
    "**What is our initial probability (initial belief state) for position 11? If the answer is non-zero, enter it in scientific notation with an accuracy of two decimal places, for example 3.14E-15.**\n"
   ]
  },
  {
   "cell_type": "code",
   "execution_count": 67,
   "metadata": {},
   "outputs": [
    {
     "name": "stdout",
     "output_type": "stream",
     "text": [
      "answer= 0\n"
     ]
    }
   ],
   "source": [
    "#Is position 11 within 2 meters of a landmark? no then 0\n",
    "print('answer=',0)"
   ]
  },
  {
   "cell_type": "markdown",
   "metadata": {},
   "source": [
    "**What is our initial probability (initial belief state) for position 71? If the answer is non-zero, enter it in scientific notation with an accuracy of two decimal places, for example 3.14E-15.**"
   ]
  },
  {
   "cell_type": "code",
   "execution_count": 68,
   "metadata": {},
   "outputs": [
    {
     "data": {
      "text/plain": [
       "'4.00E-02'"
      ]
     },
     "execution_count": 68,
     "metadata": {},
     "output_type": "execute_result"
    }
   ],
   "source": [
    "#the landmark position and two position on either side)  number of landmark positions*5\n",
    "'%.2E' %Decimal((1.0)/25 )"
   ]
  },
  {
   "cell_type": "markdown",
   "metadata": {},
   "source": [
    "To determine the initial probability we will divide 1.0 by the total number of positions within 2 meters of a landmark. In this case we have 5 landmarks and a position standard deviation of 2.0 meters. This gives us 5 potentially occupied positions per landmark (the landmark position and 2 each side), yielding 25 potentially occupied positions (5 landmarks * 5 positions/landmark)."
   ]
  },
  {
   "cell_type": "markdown",
   "metadata": {},
   "source": [
    "# Motion Model Probability"
   ]
  },
  {
   "cell_type": "code",
   "execution_count": 24,
   "metadata": {},
   "outputs": [],
   "source": [
    "pseudo_position_x1=[7,7,7,7,7,7,7,7]\n",
    "pre_pseudo_position=[1,2,3,4,5,6,7,8]\n",
    "delta_position=[6,5,4,None,2,1,0,-1]\n",
    "P_transition=[1.49E-06,1.34E-04,4.43E-03,5.40E-02,None,3.99E-01,2.42E-01,5.40E-02]\n",
    "bel_x_t_1=[5.56E-02,5.56E-02,5.56E-02,0.00E+00,0.00E+00,0.00E+00,None,1.79E-03]\n",
    "P_position=[8.27E-08,7.44E-06,2.46E-04,0.00E+00,0.00E+00,0.00E+00,1.66E-03,9.67E-05]"
   ]
  },
  {
   "cell_type": "code",
   "execution_count": 12,
   "metadata": {},
   "outputs": [],
   "source": [
    "df1=pd.DataFrame(list(zip(pseudo_position_x1,pre_pseudo_position,delta_position,P_transition,bel_x_t_1,P_position)),\n",
    "                columns =['pseudo_position_x1', ' pre_pseudo_position',\n",
    "                          'delta_position','P_transition','bel_x_t_1','P_position']) "
   ]
  },
  {
   "cell_type": "code",
   "execution_count": 13,
   "metadata": {},
   "outputs": [
    {
     "data": {
      "text/html": [
       "<div>\n",
       "<style scoped>\n",
       "    .dataframe tbody tr th:only-of-type {\n",
       "        vertical-align: middle;\n",
       "    }\n",
       "\n",
       "    .dataframe tbody tr th {\n",
       "        vertical-align: top;\n",
       "    }\n",
       "\n",
       "    .dataframe thead th {\n",
       "        text-align: right;\n",
       "    }\n",
       "</style>\n",
       "<table border=\"1\" class=\"dataframe\">\n",
       "  <thead>\n",
       "    <tr style=\"text-align: right;\">\n",
       "      <th></th>\n",
       "      <th>pseudo_position_x1</th>\n",
       "      <th>pre_pseudo_position</th>\n",
       "      <th>delta_position</th>\n",
       "      <th>P_transition</th>\n",
       "      <th>bel_x_t_1</th>\n",
       "      <th>P_position</th>\n",
       "    </tr>\n",
       "  </thead>\n",
       "  <tbody>\n",
       "    <tr>\n",
       "      <th>0</th>\n",
       "      <td>7</td>\n",
       "      <td>1</td>\n",
       "      <td>6.0</td>\n",
       "      <td>0.000001</td>\n",
       "      <td>0.05560</td>\n",
       "      <td>8.270000e-08</td>\n",
       "    </tr>\n",
       "    <tr>\n",
       "      <th>1</th>\n",
       "      <td>7</td>\n",
       "      <td>2</td>\n",
       "      <td>5.0</td>\n",
       "      <td>0.000134</td>\n",
       "      <td>0.05560</td>\n",
       "      <td>7.440000e-06</td>\n",
       "    </tr>\n",
       "    <tr>\n",
       "      <th>2</th>\n",
       "      <td>7</td>\n",
       "      <td>3</td>\n",
       "      <td>4.0</td>\n",
       "      <td>0.004430</td>\n",
       "      <td>0.05560</td>\n",
       "      <td>2.460000e-04</td>\n",
       "    </tr>\n",
       "    <tr>\n",
       "      <th>3</th>\n",
       "      <td>7</td>\n",
       "      <td>4</td>\n",
       "      <td>NaN</td>\n",
       "      <td>0.054000</td>\n",
       "      <td>0.00000</td>\n",
       "      <td>0.000000e+00</td>\n",
       "    </tr>\n",
       "    <tr>\n",
       "      <th>4</th>\n",
       "      <td>7</td>\n",
       "      <td>5</td>\n",
       "      <td>2.0</td>\n",
       "      <td>NaN</td>\n",
       "      <td>0.00000</td>\n",
       "      <td>0.000000e+00</td>\n",
       "    </tr>\n",
       "    <tr>\n",
       "      <th>5</th>\n",
       "      <td>7</td>\n",
       "      <td>6</td>\n",
       "      <td>1.0</td>\n",
       "      <td>0.399000</td>\n",
       "      <td>0.00000</td>\n",
       "      <td>0.000000e+00</td>\n",
       "    </tr>\n",
       "    <tr>\n",
       "      <th>6</th>\n",
       "      <td>7</td>\n",
       "      <td>7</td>\n",
       "      <td>0.0</td>\n",
       "      <td>0.242000</td>\n",
       "      <td>NaN</td>\n",
       "      <td>1.660000e-03</td>\n",
       "    </tr>\n",
       "    <tr>\n",
       "      <th>7</th>\n",
       "      <td>7</td>\n",
       "      <td>8</td>\n",
       "      <td>-1.0</td>\n",
       "      <td>0.054000</td>\n",
       "      <td>0.00179</td>\n",
       "      <td>NaN</td>\n",
       "    </tr>\n",
       "  </tbody>\n",
       "</table>\n",
       "</div>"
      ],
      "text/plain": [
       "   pseudo_position_x1   pre_pseudo_position  delta_position  P_transition  \\\n",
       "0                   7                     1             6.0      0.000001   \n",
       "1                   7                     2             5.0      0.000134   \n",
       "2                   7                     3             4.0      0.004430   \n",
       "3                   7                     4             NaN      0.054000   \n",
       "4                   7                     5             2.0           NaN   \n",
       "5                   7                     6             1.0      0.399000   \n",
       "6                   7                     7             0.0      0.242000   \n",
       "7                   7                     8            -1.0      0.054000   \n",
       "\n",
       "   bel_x_t_1    P_position  \n",
       "0    0.05560  8.270000e-08  \n",
       "1    0.05560  7.440000e-06  \n",
       "2    0.05560  2.460000e-04  \n",
       "3    0.00000  0.000000e+00  \n",
       "4    0.00000  0.000000e+00  \n",
       "5    0.00000  0.000000e+00  \n",
       "6        NaN  1.660000e-03  \n",
       "7    0.00179           NaN  "
      ]
     },
     "execution_count": 13,
     "metadata": {},
     "output_type": "execute_result"
    }
   ],
   "source": [
    "df1"
   ]
  },
  {
   "cell_type": "markdown",
   "metadata": {},
   "source": [
    "Delta Position\n",
    "\n",
    "What is difference in position for an x of 7 and a pre-pseudo position of 4?\n",
    "\n"
   ]
  },
  {
   "cell_type": "code",
   "execution_count": 14,
   "metadata": {},
   "outputs": [
    {
     "name": "stdout",
     "output_type": "stream",
     "text": [
      "pseudo_position - pre-pseudo_position = 3\n"
     ]
    }
   ],
   "source": [
    "print('pseudo_position - pre-pseudo_position =', 7 - 4 )"
   ]
  },
  {
   "cell_type": "markdown",
   "metadata": {},
   "source": [
    "\n",
    "Transition Probability\n",
    "\n",
    "Use [normpdf](https://github.com/A2Amir/Markov-Localization-and-the-Kidnapped-Vehicle-/blob/master/C%2B%2B/DetermineProbabilities.cpp)  to determine the transition probability for x = 7 and a pre-pseudo_position of 5, and a control parameter of 1, and a standard deviation of 1. The transition probability can be determined through normpdf(delta_position, control_parameter, position_stdev). The answer must be in scientific notation with two decimal place accuracy, for example 3.14E-15.\n"
   ]
  },
  {
   "attachments": {
    "grafik.png": {
     "image/png": "[encoded data removed]"
    }
   },
   "cell_type": "markdown",
   "metadata": {},
   "source": [
    "![grafik.png](attachment:grafik.png)"
   ]
  },
  {
   "cell_type": "markdown",
   "metadata": {},
   "source": [
    "Determine the belief state\n",
    "\n",
    "In practice we only set our initial belief state, but making the following calculation is helpful in building intuition. What is the belief state bel(xt−1) for the penultimate row of our table above? Write the answer in scientific notation with an accuracy of two decimal places, for example 3.14E-15.\n"
   ]
  },
  {
   "cell_type": "code",
   "execution_count": 16,
   "metadata": {},
   "outputs": [
    {
     "name": "stdout",
     "output_type": "stream",
     "text": [
      "6.86E-03\n"
     ]
    }
   ],
   "source": [
    "#Our positon probability is the product of the transition probability and our belief state at t - 1. Rearranging yields:\n",
    "print('%.2E' %Decimal((1.66E-03/2.42E-01 )))\n",
    "# = 6.86E-03"
   ]
  },
  {
   "cell_type": "markdown",
   "metadata": {},
   "source": [
    "Position Probability\n",
    "\n",
    "What is the discretized position probability for x = 7 and a pre-pseudo_position of 8, given the belief state in the table above?"
   ]
  },
  {
   "cell_type": "code",
   "execution_count": 19,
   "metadata": {},
   "outputs": [
    {
     "name": "stdout",
     "output_type": "stream",
     "text": [
      "9.67E-05\n"
     ]
    }
   ],
   "source": [
    "print('%.2E' %Decimal((5.40E-02 *1.79E-03)))\n",
    "\n",
    "#Our positon probability is the product of the transition probability and our belief state for our pre-pseudo position.\n",
    "\n",
    "#5.40E-02 * 1.79E-03 = 9.66E-05"
   ]
  },
  {
   "cell_type": "code",
   "execution_count": 25,
   "metadata": {},
   "outputs": [
    {
     "name": "stdout",
     "output_type": "stream",
     "text": [
      "2.01E-03\n"
     ]
    }
   ],
   "source": [
    "x=sum(P_position)+9.67E-05\n",
    "\n",
    "print('%.2E' %Decimal((x)))\n"
   ]
  },
  {
   "cell_type": "markdown",
   "metadata": {},
   "source": [
    "By summing the discrete probabilities from the table, we obtain the total probability, which estimates the probability from a continuous function.\n",
    "\n",
    "8.27E-08 + 7.44E-06 + 2.46E-04 + 0.00E+00 + 0.00E+00 + 0.00E+00 + 1.66E-03 + 9.66E-05 = 2.02E-03"
   ]
  },
  {
   "cell_type": "code",
   "execution_count": null,
   "metadata": {},
   "outputs": [],
   "source": []
  }
 ],
 "metadata": {
  "kernelspec": {
   "display_name": "Python 3",
   "language": "python",
   "name": "python3"
  },
  "language_info": {
   "codemirror_mode": {
    "name": "ipython",
    "version": 3
   },
   "file_extension": ".py",
   "mimetype": "text/x-python",
   "name": "python",
   "nbconvert_exporter": "python",
   "pygments_lexer": "ipython3",
   "version": "3.6.4"
  }
 },
 "nbformat": 4,
 "nbformat_minor": 2
}
